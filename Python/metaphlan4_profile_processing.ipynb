{
 "cells": [
  {
   "cell_type": "code",
   "execution_count": 7,
   "metadata": {},
   "outputs": [],
   "source": [
    "import pandas as pd\n",
    "import matplotlib.pyplot as plt\n",
    "import pylab\n",
    "\n",
    "import importlib\n",
    "import data_processing_helper\n",
    "importlib.reload(data_processing_helper)\n",
    "from data_processing_helper import clean_index_names\n",
    "from data_processing_helper import metaphlan_taxa_table\n",
    "from data_processing_helper import sort_top_n"
   ]
  },
  {
   "attachments": {},
   "cell_type": "markdown",
   "metadata": {},
   "source": [
    "#### First, use metaphlan utility function to merge multiple sample profiles.\n",
    "On Quest, the code looks like:\n",
    "\n",
    "`$ module load metaphlan/4.0.1`\n",
    "\n",
    "`$ merge_metaphlan_tables.py *_profile.txt > merged_abundance_table.txt`\n",
    "\n",
    "#### Then use the following python code to process the merged abundance table:"
   ]
  },
  {
   "cell_type": "code",
   "execution_count": 9,
   "metadata": {},
   "outputs": [
    {
     "data": {
      "text/html": [
       "<div>\n",
       "<style scoped>\n",
       "    .dataframe tbody tr th:only-of-type {\n",
       "        vertical-align: middle;\n",
       "    }\n",
       "\n",
       "    .dataframe tbody tr th {\n",
       "        vertical-align: top;\n",
       "    }\n",
       "\n",
       "    .dataframe thead th {\n",
       "        text-align: right;\n",
       "    }\n",
       "</style>\n",
       "<table border=\"1\" class=\"dataframe\">\n",
       "  <thead>\n",
       "    <tr style=\"text-align: right;\">\n",
       "      <th></th>\n",
       "      <th>SRS014476-Supragingival_plaque</th>\n",
       "      <th>SRS014494-Posterior_fornix</th>\n",
       "    </tr>\n",
       "  </thead>\n",
       "  <tbody>\n",
       "    <tr>\n",
       "      <th>k__Bacteria</th>\n",
       "      <td>100.00000</td>\n",
       "      <td>100.0</td>\n",
       "    </tr>\n",
       "    <tr>\n",
       "      <th>k__Bacteria|p__Actinobacteria</th>\n",
       "      <td>55.36506</td>\n",
       "      <td>0.0</td>\n",
       "    </tr>\n",
       "    <tr>\n",
       "      <th>k__Bacteria|p__Firmicutes</th>\n",
       "      <td>44.63494</td>\n",
       "      <td>100.0</td>\n",
       "    </tr>\n",
       "    <tr>\n",
       "      <th>k__Bacteria|p__Actinobacteria|c__Actinomycetia</th>\n",
       "      <td>55.36506</td>\n",
       "      <td>0.0</td>\n",
       "    </tr>\n",
       "    <tr>\n",
       "      <th>k__Bacteria|p__Firmicutes|c__Bacilli</th>\n",
       "      <td>44.63494</td>\n",
       "      <td>100.0</td>\n",
       "    </tr>\n",
       "  </tbody>\n",
       "</table>\n",
       "</div>"
      ],
      "text/plain": [
       "                                                SRS014476-Supragingival_plaque   \n",
       "k__Bacteria                                                          100.00000  \\\n",
       "k__Bacteria|p__Actinobacteria                                         55.36506   \n",
       "k__Bacteria|p__Firmicutes                                             44.63494   \n",
       "k__Bacteria|p__Actinobacteria|c__Actinomycetia                        55.36506   \n",
       "k__Bacteria|p__Firmicutes|c__Bacilli                                  44.63494   \n",
       "\n",
       "                                                SRS014494-Posterior_fornix  \n",
       "k__Bacteria                                                          100.0  \n",
       "k__Bacteria|p__Actinobacteria                                          0.0  \n",
       "k__Bacteria|p__Firmicutes                                            100.0  \n",
       "k__Bacteria|p__Actinobacteria|c__Actinomycetia                         0.0  \n",
       "k__Bacteria|p__Firmicutes|c__Bacilli                                 100.0  "
      ]
     },
     "execution_count": 9,
     "metadata": {},
     "output_type": "execute_result"
    }
   ],
   "source": [
    "# read from txt file\n",
    "taxa_metaphlan4 = \"merged_abundance_table.txt\"\n",
    "taxa_df = pd.read_csv(taxa_metaphlan4, delimiter = \"\\t\",index_col=0, comment='#').astype(float)\n",
    "# delete the first row, make data type float\n",
    "#taxa_df = taxa_df.drop([\"#SampleID\"]).astype(float)\n",
    "taxa_df.head()"
   ]
  },
  {
   "cell_type": "code",
   "execution_count": 3,
   "metadata": {},
   "outputs": [
    {
     "data": {
      "text/html": [
       "<div>\n",
       "<style scoped>\n",
       "    .dataframe tbody tr th:only-of-type {\n",
       "        vertical-align: middle;\n",
       "    }\n",
       "\n",
       "    .dataframe tbody tr th {\n",
       "        vertical-align: top;\n",
       "    }\n",
       "\n",
       "    .dataframe thead th {\n",
       "        text-align: right;\n",
       "    }\n",
       "</style>\n",
       "<table border=\"1\" class=\"dataframe\">\n",
       "  <thead>\n",
       "    <tr style=\"text-align: right;\">\n",
       "      <th></th>\n",
       "      <th>SRS014476-Supragingival_plaque</th>\n",
       "      <th>SRS014494-Posterior_fornix</th>\n",
       "    </tr>\n",
       "  </thead>\n",
       "  <tbody>\n",
       "    <tr>\n",
       "      <th>k__Bacteria</th>\n",
       "      <td>100.00000</td>\n",
       "      <td>100.0</td>\n",
       "    </tr>\n",
       "    <tr>\n",
       "      <th>p__Actinobacteria</th>\n",
       "      <td>55.36506</td>\n",
       "      <td>0.0</td>\n",
       "    </tr>\n",
       "    <tr>\n",
       "      <th>p__Firmicutes</th>\n",
       "      <td>44.63494</td>\n",
       "      <td>100.0</td>\n",
       "    </tr>\n",
       "    <tr>\n",
       "      <th>c__Actinomycetia</th>\n",
       "      <td>55.36506</td>\n",
       "      <td>0.0</td>\n",
       "    </tr>\n",
       "    <tr>\n",
       "      <th>c__Bacilli</th>\n",
       "      <td>44.63494</td>\n",
       "      <td>100.0</td>\n",
       "    </tr>\n",
       "  </tbody>\n",
       "</table>\n",
       "</div>"
      ],
      "text/plain": [
       "                   SRS014476-Supragingival_plaque  SRS014494-Posterior_fornix\n",
       "k__Bacteria                             100.00000                       100.0\n",
       "p__Actinobacteria                        55.36506                         0.0\n",
       "p__Firmicutes                            44.63494                       100.0\n",
       "c__Actinomycetia                         55.36506                         0.0\n",
       "c__Bacilli                               44.63494                       100.0"
      ]
     },
     "execution_count": 3,
     "metadata": {},
     "output_type": "execute_result"
    }
   ],
   "source": [
    "# get the lowest level names\n",
    "taxa_df = clean_index_names(taxa_df, \"|\")\n",
    "taxa_df.head()"
   ]
  },
  {
   "cell_type": "code",
   "execution_count": 8,
   "metadata": {},
   "outputs": [
    {
     "data": {
      "text/html": [
       "<div>\n",
       "<style scoped>\n",
       "    .dataframe tbody tr th:only-of-type {\n",
       "        vertical-align: middle;\n",
       "    }\n",
       "\n",
       "    .dataframe tbody tr th {\n",
       "        vertical-align: top;\n",
       "    }\n",
       "\n",
       "    .dataframe thead th {\n",
       "        text-align: right;\n",
       "    }\n",
       "</style>\n",
       "<table border=\"1\" class=\"dataframe\">\n",
       "  <thead>\n",
       "    <tr style=\"text-align: right;\">\n",
       "      <th></th>\n",
       "      <th>SRS014476-Supragingival_plaque</th>\n",
       "      <th>SRS014494-Posterior_fornix</th>\n",
       "    </tr>\n",
       "  </thead>\n",
       "  <tbody>\n",
       "    <tr>\n",
       "      <th>Corynebacterium matruchotii</th>\n",
       "      <td>55.36506</td>\n",
       "      <td>0.00000</td>\n",
       "    </tr>\n",
       "    <tr>\n",
       "      <th>GGB10485 SGB49305</th>\n",
       "      <td>44.63494</td>\n",
       "      <td>0.00000</td>\n",
       "    </tr>\n",
       "    <tr>\n",
       "      <th>Lactobacillus crispatus</th>\n",
       "      <td>0.00000</td>\n",
       "      <td>77.36286</td>\n",
       "    </tr>\n",
       "    <tr>\n",
       "      <th>Lactobacillus iners</th>\n",
       "      <td>0.00000</td>\n",
       "      <td>21.60871</td>\n",
       "    </tr>\n",
       "    <tr>\n",
       "      <th>Lactobacillus jensenii</th>\n",
       "      <td>0.00000</td>\n",
       "      <td>1.02844</td>\n",
       "    </tr>\n",
       "  </tbody>\n",
       "</table>\n",
       "</div>"
      ],
      "text/plain": [
       "                             SRS014476-Supragingival_plaque   \n",
       "Corynebacterium matruchotii                        55.36506  \\\n",
       "GGB10485 SGB49305                                  44.63494   \n",
       "Lactobacillus crispatus                             0.00000   \n",
       "Lactobacillus iners                                 0.00000   \n",
       "Lactobacillus jensenii                              0.00000   \n",
       "\n",
       "                             SRS014494-Posterior_fornix  \n",
       "Corynebacterium matruchotii                     0.00000  \n",
       "GGB10485 SGB49305                               0.00000  \n",
       "Lactobacillus crispatus                        77.36286  \n",
       "Lactobacillus iners                            21.60871  \n",
       "Lactobacillus jensenii                          1.02844  "
      ]
     },
     "execution_count": 8,
     "metadata": {},
     "output_type": "execute_result"
    }
   ],
   "source": [
    "# get dataframe for a desired taxa level\n",
    "level = 'species'\n",
    "level_df = metaphlan_taxa_table(taxa_df,level)\n",
    "level_df.head()"
   ]
  },
  {
   "attachments": {},
   "cell_type": "markdown",
   "metadata": {},
   "source": [
    "## Make stacked barplot"
   ]
  },
  {
   "cell_type": "code",
   "execution_count": 6,
   "metadata": {},
   "outputs": [
    {
     "data": {
      "text/plain": [
       "Text(0, 0.5, 'Relative abundance (%)')"
      ]
     },
     "execution_count": 6,
     "metadata": {},
     "output_type": "execute_result"
    },
    {
     "data": {
      "image/png": "[encoded data removed]",
      "text/plain": [
       "<Figure size 640x480 with 1 Axes>"
      ]
     },
     "metadata": {},
     "output_type": "display_data"
    }
   ],
   "source": [
    "# top n taxa\n",
    "n = 10\n",
    "if len(level_df) <= n:\n",
    "    topn_df = level_df\n",
    "else:\n",
    "    # from level_df, get top n taxa table and sum \"Others\"\n",
    "    topn_df = sort_top_n(level_df,n)\n",
    "\n",
    "# define number of colors for the bar plot\n",
    "NUM_COLORS = n+1\n",
    "# define colormap\n",
    "cm = pylab.get_cmap('tab20')\n",
    "colors = [cm(1.*i/NUM_COLORS) for i in range(NUM_COLORS)]\n",
    "\n",
    "# make stacked bar plot\n",
    "ax = topn_df.transpose().plot.bar(stacked = True, color = colors)\n",
    "plt.xticks(rotation=30, horizontalalignment=\"right\")\n",
    "# reverse legend labels, set legend outside the plot.\n",
    "handles, labels = ax.get_legend_handles_labels()\n",
    "ax.legend(reversed(handles), reversed(labels),\n",
    "          title = f'Classification at {level} level',\n",
    "          bbox_to_anchor=(1.02, 1.0))\n",
    "plt.ylabel(\"Relative abundance (%)\")\n"
   ]
  },
  {
   "cell_type": "code",
   "execution_count": null,
   "metadata": {},
   "outputs": [],
   "source": []
  }
 ],
 "metadata": {
  "kernelspec": {
   "display_name": "metaphlan2",
   "language": "python",
   "name": "python3"
  },
  "language_info": {
   "codemirror_mode": {
    "name": "ipython",
    "version": 3
   },
   "file_extension": ".py",
   "mimetype": "text/x-python",
   "name": "python",
   "nbconvert_exporter": "python",
   "pygments_lexer": "ipython3",
   "version": "3.9.12"
  },
  "orig_nbformat": 4
 },
 "nbformat": 4,
 "nbformat_minor": 2
}
